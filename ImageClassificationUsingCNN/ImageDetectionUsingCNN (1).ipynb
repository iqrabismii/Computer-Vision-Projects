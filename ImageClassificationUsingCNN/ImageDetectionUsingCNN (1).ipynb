{
 "cells": [
  {
   "cell_type": "code",
   "execution_count": 1,
   "id": "82501451",
   "metadata": {},
   "outputs": [
    {
     "name": "stdout",
     "output_type": "stream",
     "text": [
      "Downloading data from https://storage.googleapis.com/tensorflow/tf-keras-datasets/train-labels-idx1-ubyte.gz\n",
      "32768/29515 [=================================] - 0s 0us/step\n",
      "40960/29515 [=========================================] - 0s 0us/step\n",
      "Downloading data from https://storage.googleapis.com/tensorflow/tf-keras-datasets/train-images-idx3-ubyte.gz\n",
      "26427392/26421880 [==============================] - 2s 0us/step\n",
      "26435584/26421880 [==============================] - 2s 0us/step\n",
      "Downloading data from https://storage.googleapis.com/tensorflow/tf-keras-datasets/t10k-labels-idx1-ubyte.gz\n",
      "16384/5148 [===============================================================================================] - 0s 0us/step\n",
      "Downloading data from https://storage.googleapis.com/tensorflow/tf-keras-datasets/t10k-images-idx3-ubyte.gz\n",
      "4423680/4422102 [==============================] - 0s 0us/step\n",
      "4431872/4422102 [==============================] - 0s 0us/step\n"
     ]
    }
   ],
   "source": [
    "from keras.datasets import fashion_mnist\n",
    "(train_X,train_Y), (test_X,test_Y) = fashion_mnist.load_data()"
   ]
  },
  {
   "cell_type": "code",
   "execution_count": 7,
   "id": "c75f5c3e",
   "metadata": {},
   "outputs": [],
   "source": [
    "import numpy as np\n",
    "import pandas as pd\n",
    "import matplotlib.pyplot as plt\n",
    "import seaborn as sns"
   ]
  },
  {
   "cell_type": "markdown",
   "id": "486fb11c",
   "metadata": {},
   "source": [
    "## EDA"
   ]
  },
  {
   "cell_type": "code",
   "execution_count": 9,
   "id": "802d6a60",
   "metadata": {},
   "outputs": [],
   "source": [
    "def show_image(image, cmap_type= 'gray'):\n",
    "    plt.imshow(image, cmap=cmap_type)\n",
    "    plt.axis('off')\n",
    "    plt.show()"
   ]
  },
  {
   "cell_type": "code",
   "execution_count": 22,
   "id": "0d8374ef",
   "metadata": {},
   "outputs": [],
   "source": [
    "#visualising first ten products\n",
    "\n",
    "sample= train_X[:10]"
   ]
  },
  {
   "cell_type": "code",
   "execution_count": 24,
   "id": "f2ebebe3",
   "metadata": {},
   "outputs": [],
   "source": [
    "from skimage import color"
   ]
  },
  {
   "cell_type": "code",
   "execution_count": 25,
   "id": "680778c9",
   "metadata": {},
   "outputs": [
    {
     "data": {
      "image/png": "[encoded data removed]",
      "text/plain": [
       "<Figure size 432x288 with 1 Axes>"
      ]
     },
     "metadata": {
      "needs_background": "light"
     },
     "output_type": "display_data"
    },
    {
     "data": {
      "image/png": "[encoded data removed]",
      "text/plain": [
       "<Figure size 432x288 with 1 Axes>"
      ]
     },
     "metadata": {
      "needs_background": "light"
     },
     "output_type": "display_data"
    },
    {
     "data": {
      "image/png": "[encoded data removed]",
      "text/plain": [
       "<Figure size 432x288 with 1 Axes>"
      ]
     },
     "metadata": {
      "needs_background": "light"
     },
     "output_type": "display_data"
    },
    {
     "data": {
      "image/png": "[encoded data removed]",
      "text/plain": [
       "<Figure size 432x288 with 1 Axes>"
      ]
     },
     "metadata": {
      "needs_background": "light"
     },
     "output_type": "display_data"
    },
    {
     "data": {
      "image/png": "[encoded data removed]",
      "text/plain": [
       "<Figure size 432x288 with 1 Axes>"
      ]
     },
     "metadata": {
      "needs_background": "light"
     },
     "output_type": "display_data"
    },
    {
     "data": {
      "image/png": "[encoded data removed]",
      "text/plain": [
       "<Figure size 432x288 with 1 Axes>"
      ]
     },
     "metadata": {
      "needs_background": "light"
     },
     "output_type": "display_data"
    },
    {
     "data": {
      "image/png": "[encoded data removed]",
      "text/plain": [
       "<Figure size 432x288 with 1 Axes>"
      ]
     },
     "metadata": {
      "needs_background": "light"
     },
     "output_type": "display_data"
    },
    {
     "data": {
      "image/png": "[encoded data removed]",
      "text/plain": [
       "<Figure size 432x288 with 1 Axes>"
      ]
     },
     "metadata": {
      "needs_background": "light"
     },
     "output_type": "display_data"
    },
    {
     "data": {
      "image/png": "[encoded data removed]",
      "text/plain": [
       "<Figure size 432x288 with 1 Axes>"
      ]
     },
     "metadata": {
      "needs_background": "light"
     },
     "output_type": "display_data"
    },
    {
     "data": {
      "image/png": "[encoded data removed]",
      "text/plain": [
       "<Figure size 432x288 with 1 Axes>"
      ]
     },
     "metadata": {
      "needs_background": "light"
     },
     "output_type": "display_data"
    }
   ],
   "source": [
    "for i in sample:\n",
    "    show_image(color.gray2rgb(i))"
   ]
  },
  {
   "cell_type": "code",
   "execution_count": 12,
   "id": "c7df205e",
   "metadata": {},
   "outputs": [
    {
     "name": "stdout",
     "output_type": "stream",
     "text": [
      "Training data shape :  (60000, 28, 28) (60000,)\n",
      "Testing data shape :  (10000, 28, 28) (10000,)\n"
     ]
    }
   ],
   "source": [
    "print('Training data shape : ', train_X.shape, train_Y.shape)\n",
    "\n",
    "print('Testing data shape : ', test_X.shape, test_Y.shape)"
   ]
  },
  {
   "cell_type": "code",
   "execution_count": 13,
   "id": "9387fa78",
   "metadata": {},
   "outputs": [
    {
     "name": "stdout",
     "output_type": "stream",
     "text": [
      "Total number of outputs :  10\n",
      "Output classes :  [0 1 2 3 4 5 6 7 8 9]\n"
     ]
    }
   ],
   "source": [
    "# Find the unique numbers from the train labels\n",
    "classes = np.unique(train_Y)\n",
    "nClasses = len(classes)\n",
    "print('Total number of outputs : ', nClasses)\n",
    "print('Output classes : ', classes)"
   ]
  },
  {
   "cell_type": "code",
   "execution_count": 39,
   "id": "7386a047",
   "metadata": {},
   "outputs": [],
   "source": [
    "# Change the labels from categorical to one-hot encoding\n",
    "\n",
    "train_Y_one_hot = pd.get_dummies(train_Y).values\n",
    "test_Y_one_hot = pd.get_dummies(test_Y).values"
   ]
  },
  {
   "cell_type": "code",
   "execution_count": 40,
   "id": "e89f44f3",
   "metadata": {},
   "outputs": [
    {
     "name": "stdout",
     "output_type": "stream",
     "text": [
      "Original label: 9\n",
      "After conversion to one-hot: [0 0 0 0 0 0 0 0 0 1]\n"
     ]
    }
   ],
   "source": [
    "print('Original label:', train_Y[0])\n",
    "print('After conversion to one-hot:', train_Y_one_hot[0])"
   ]
  },
  {
   "cell_type": "code",
   "execution_count": 45,
   "id": "65941f0d",
   "metadata": {},
   "outputs": [],
   "source": [
    "import warnings\n",
    "\n",
    "warnings.filterwarnings(\"ignore\")"
   ]
  },
  {
   "cell_type": "markdown",
   "id": "572e9b52",
   "metadata": {},
   "source": [
    "### Modelling"
   ]
  },
  {
   "cell_type": "code",
   "execution_count": 43,
   "id": "96b171c3",
   "metadata": {},
   "outputs": [],
   "source": [
    "from keras.models import Sequential\n",
    "from keras.layers import Dense, Conv2D, Flatten,MaxPooling2D, Dropout\n",
    "from keras.layers import normalization\n",
    "from keras.layers.advanced_activations import LeakyReLU"
   ]
  },
  {
   "cell_type": "code",
   "execution_count": 50,
   "id": "ce650a40",
   "metadata": {},
   "outputs": [],
   "source": [
    "fashionmodel= Sequential()\n"
   ]
  },
  {
   "cell_type": "code",
   "execution_count": 51,
   "id": "6d78d659",
   "metadata": {},
   "outputs": [],
   "source": [
    "fashionmodel.add(Conv2D(32, kernel_size=3,activation='relu',input_shape=(28,28,1),padding='same'))"
   ]
  },
  {
   "cell_type": "code",
   "execution_count": 52,
   "id": "bdd34d84",
   "metadata": {},
   "outputs": [],
   "source": [
    "fashionmodel.add(MaxPooling2D(2,padding='same'))"
   ]
  },
  {
   "cell_type": "code",
   "execution_count": 53,
   "id": "dbecfa09",
   "metadata": {},
   "outputs": [],
   "source": [
    "fashionmodel.add(Conv2D(64, kernel_size= 3 , activation='relu',padding='same'))"
   ]
  },
  {
   "cell_type": "code",
   "execution_count": 54,
   "id": "1422a6e0",
   "metadata": {},
   "outputs": [],
   "source": [
    "fashionmodel.add(MaxPooling2D(2,padding='same'))"
   ]
  },
  {
   "cell_type": "code",
   "execution_count": 55,
   "id": "79526a85",
   "metadata": {},
   "outputs": [],
   "source": [
    "fashionmodel.add(Conv2D(128, kernel_size= 3 , activation='relu',padding='same'))"
   ]
  },
  {
   "cell_type": "code",
   "execution_count": 56,
   "id": "7aa04424",
   "metadata": {},
   "outputs": [],
   "source": [
    "fashionmodel.add(MaxPooling2D(2,padding='same'))"
   ]
  },
  {
   "cell_type": "code",
   "execution_count": 57,
   "id": "6f6d7099",
   "metadata": {},
   "outputs": [],
   "source": [
    "fashionmodel.add(Flatten())"
   ]
  },
  {
   "cell_type": "code",
   "execution_count": 58,
   "id": "7e27336e",
   "metadata": {},
   "outputs": [],
   "source": [
    "fashionmodel.add(Dense(128, activation='relu'))"
   ]
  },
  {
   "cell_type": "code",
   "execution_count": 59,
   "id": "0def5e74",
   "metadata": {},
   "outputs": [],
   "source": [
    "fashionmodel.add(Dense(10, activation='softmax'))"
   ]
  },
  {
   "cell_type": "markdown",
   "id": "e2c7ef33",
   "metadata": {},
   "source": [
    "### Compiling the Model"
   ]
  },
  {
   "cell_type": "code",
   "execution_count": 61,
   "id": "c12dc917",
   "metadata": {},
   "outputs": [],
   "source": [
    "fashionmodel.compile(loss='categorical_crossentropy', optimizer='adam',metrics=['accuracy'])"
   ]
  },
  {
   "cell_type": "code",
   "execution_count": 62,
   "id": "4a62347b",
   "metadata": {},
   "outputs": [
    {
     "name": "stdout",
     "output_type": "stream",
     "text": [
      "Model: \"sequential_2\"\n",
      "_________________________________________________________________\n",
      " Layer (type)                Output Shape              Param #   \n",
      "=================================================================\n",
      " conv2d_1 (Conv2D)           (None, 28, 28, 32)        320       \n",
      "                                                                 \n",
      " max_pooling2d_1 (MaxPooling  (None, 14, 14, 32)       0         \n",
      " 2D)                                                             \n",
      "                                                                 \n",
      " conv2d_2 (Conv2D)           (None, 14, 14, 64)        18496     \n",
      "                                                                 \n",
      " max_pooling2d_2 (MaxPooling  (None, 7, 7, 64)         0         \n",
      " 2D)                                                             \n",
      "                                                                 \n",
      " conv2d_3 (Conv2D)           (None, 7, 7, 128)         73856     \n",
      "                                                                 \n",
      " max_pooling2d_3 (MaxPooling  (None, 4, 4, 128)        0         \n",
      " 2D)                                                             \n",
      "                                                                 \n",
      " flatten (Flatten)           (None, 2048)              0         \n",
      "                                                                 \n",
      " dense (Dense)               (None, 128)               262272    \n",
      "                                                                 \n",
      " dense_1 (Dense)             (None, 10)                1290      \n",
      "                                                                 \n",
      "=================================================================\n",
      "Total params: 356,234\n",
      "Trainable params: 356,234\n",
      "Non-trainable params: 0\n",
      "_________________________________________________________________\n"
     ]
    }
   ],
   "source": [
    "fashionmodel.summary()"
   ]
  },
  {
   "cell_type": "code",
   "execution_count": 67,
   "id": "d369dfd5",
   "metadata": {},
   "outputs": [
    {
     "data": {
      "text/plain": [
       "((60000, 28, 28, 1), (10000, 28, 28, 1))"
      ]
     },
     "execution_count": 67,
     "metadata": {},
     "output_type": "execute_result"
    }
   ],
   "source": [
    "train_X = train_X.reshape(-1, 28,28, 1)\n",
    "test_X = test_X.reshape(-1, 28,28, 1)\n",
    "train_X.shape, test_X.shape"
   ]
  },
  {
   "cell_type": "code",
   "execution_count": 68,
   "id": "50b734d3",
   "metadata": {},
   "outputs": [],
   "source": [
    "train_X = train_X.astype('float32')\n",
    "test_X = test_X.astype('float32')\n",
    "train_X = train_X / 255.\n",
    "test_X = test_X / 255."
   ]
  },
  {
   "cell_type": "markdown",
   "id": "52309ae5",
   "metadata": {},
   "source": [
    "### Training the Model"
   ]
  },
  {
   "cell_type": "code",
   "execution_count": 69,
   "id": "743c0628",
   "metadata": {},
   "outputs": [
    {
     "name": "stdout",
     "output_type": "stream",
     "text": [
      "Epoch 1/20\n",
      "750/750 [==============================] - 69s 92ms/step - loss: 0.5158 - accuracy: 0.8071 - val_loss: 5.4940 - val_accuracy: 0.7792\n",
      "Epoch 2/20\n",
      "750/750 [==============================] - 68s 91ms/step - loss: 0.3134 - accuracy: 0.8832 - val_loss: 14.6666 - val_accuracy: 0.7105\n",
      "Epoch 3/20\n",
      "750/750 [==============================] - 115s 154ms/step - loss: 0.2699 - accuracy: 0.9013 - val_loss: 20.3954 - val_accuracy: 0.7158\n",
      "Epoch 4/20\n",
      "750/750 [==============================] - 85s 113ms/step - loss: 0.2379 - accuracy: 0.9120 - val_loss: 26.3413 - val_accuracy: 0.7063\n",
      "Epoch 5/20\n",
      "750/750 [==============================] - 81s 108ms/step - loss: 0.2175 - accuracy: 0.9184 - val_loss: 31.7945 - val_accuracy: 0.6808\n",
      "Epoch 6/20\n",
      "750/750 [==============================] - 70s 94ms/step - loss: 0.1965 - accuracy: 0.9275 - val_loss: 48.8482 - val_accuracy: 0.6655\n",
      "Epoch 7/20\n",
      "750/750 [==============================] - 69s 92ms/step - loss: 0.1802 - accuracy: 0.9343 - val_loss: 32.8683 - val_accuracy: 0.7289\n",
      "Epoch 8/20\n",
      "750/750 [==============================] - 85s 113ms/step - loss: 0.1629 - accuracy: 0.9393 - val_loss: 43.7824 - val_accuracy: 0.7326\n",
      "Epoch 9/20\n",
      "750/750 [==============================] - 78s 104ms/step - loss: 0.1493 - accuracy: 0.9446 - val_loss: 49.1246 - val_accuracy: 0.7172\n",
      "Epoch 10/20\n",
      "750/750 [==============================] - 89s 119ms/step - loss: 0.1368 - accuracy: 0.9496 - val_loss: 53.9998 - val_accuracy: 0.7427\n",
      "Epoch 11/20\n",
      "750/750 [==============================] - 72s 96ms/step - loss: 0.1225 - accuracy: 0.9556 - val_loss: 75.1055 - val_accuracy: 0.7071\n",
      "Epoch 12/20\n",
      "750/750 [==============================] - 71s 95ms/step - loss: 0.1124 - accuracy: 0.9578 - val_loss: 79.2253 - val_accuracy: 0.7285\n",
      "Epoch 13/20\n",
      "750/750 [==============================] - 58s 77ms/step - loss: 0.0989 - accuracy: 0.9635 - val_loss: 145.6221 - val_accuracy: 0.6157\n",
      "Epoch 14/20\n",
      "750/750 [==============================] - 56s 74ms/step - loss: 0.0865 - accuracy: 0.9680 - val_loss: 191.7700 - val_accuracy: 0.6143\n",
      "Epoch 15/20\n",
      "750/750 [==============================] - 55s 73ms/step - loss: 0.0768 - accuracy: 0.9721 - val_loss: 212.3080 - val_accuracy: 0.6332\n",
      "Epoch 16/20\n",
      "750/750 [==============================] - 56s 74ms/step - loss: 0.0683 - accuracy: 0.9741 - val_loss: 196.4612 - val_accuracy: 0.6482\n",
      "Epoch 17/20\n",
      "750/750 [==============================] - 56s 74ms/step - loss: 0.0591 - accuracy: 0.9784 - val_loss: 183.9154 - val_accuracy: 0.6778\n",
      "Epoch 18/20\n",
      "750/750 [==============================] - 55s 73ms/step - loss: 0.0512 - accuracy: 0.9812 - val_loss: 221.0435 - val_accuracy: 0.6597\n",
      "Epoch 19/20\n",
      "750/750 [==============================] - 54s 72ms/step - loss: 0.0505 - accuracy: 0.9818 - val_loss: 364.3074 - val_accuracy: 0.5615\n",
      "Epoch 20/20\n",
      "750/750 [==============================] - 54s 72ms/step - loss: 0.0423 - accuracy: 0.9847 - val_loss: 288.5005 - val_accuracy: 0.6095\n"
     ]
    }
   ],
   "source": [
    "fashion_train = fashionmodel.fit(train_X, train_Y_one_hot, batch_size=64 ,epochs=20,verbose=1,validation_split = 0.2)"
   ]
  },
  {
   "cell_type": "markdown",
   "id": "e95d333a",
   "metadata": {},
   "source": [
    "### Evaluation"
   ]
  },
  {
   "cell_type": "code",
   "execution_count": 73,
   "id": "16d91459",
   "metadata": {},
   "outputs": [],
   "source": [
    "test_eval = fashionmodel.evaluate(test_X, test_Y_one_hot, verbose=0)"
   ]
  },
  {
   "cell_type": "code",
   "execution_count": 74,
   "id": "682e6067",
   "metadata": {},
   "outputs": [
    {
     "name": "stdout",
     "output_type": "stream",
     "text": [
      "Test loss: 0.38672661781311035\n",
      "Test accuracy: 0.913100004196167\n"
     ]
    }
   ],
   "source": [
    "print('Test loss:', test_eval[0])\n",
    "print('Test accuracy:', test_eval[1])"
   ]
  },
  {
   "cell_type": "code",
   "execution_count": 71,
   "id": "334333c4",
   "metadata": {},
   "outputs": [
    {
     "data": {
      "image/png": "[encoded data removed]",
      "text/plain": [
       "<Figure size 432x288 with 1 Axes>"
      ]
     },
     "metadata": {
      "needs_background": "light"
     },
     "output_type": "display_data"
    },
    {
     "data": {
      "image/png": "[encoded data removed]",
      "text/plain": [
       "<Figure size 432x288 with 1 Axes>"
      ]
     },
     "metadata": {
      "needs_background": "light"
     },
     "output_type": "display_data"
    }
   ],
   "source": [
    "accuracy = fashion_train.history['accuracy']\n",
    "val_accuracy = fashion_train.history['val_accuracy']\n",
    "loss = fashion_train.history['loss']\n",
    "val_loss = fashion_train.history['val_loss']\n",
    "epochs = range(len(accuracy))\n",
    "plt.plot(epochs, accuracy, 'bo', label='Training accuracy')\n",
    "plt.plot(epochs, val_accuracy, 'b', label='Validation accuracy')\n",
    "plt.title('Training and validation accuracy')\n",
    "plt.legend()\n",
    "plt.figure()\n",
    "plt.plot(epochs, loss, 'bo', label='Training loss')\n",
    "plt.plot(epochs, val_loss, 'b', label='Validation loss')\n",
    "plt.title('Training and validation loss')\n",
    "plt.legend()\n",
    "plt.show()"
   ]
  },
  {
   "cell_type": "markdown",
   "id": "74345504",
   "metadata": {},
   "source": [
    "From the plots, it is evident that the validation accuracy stopped improving after a few epochs and only saw occasional slight increases. At the start, the validation accuracy was steadily increasing along with the loss, but it stopped showing much improvement later on. The increase in validation loss after a few epochs indicates overfitting, as the model began to memorize the data instead of generalizing it."
   ]
  },
  {
   "cell_type": "markdown",
   "id": "d2918bad",
   "metadata": {},
   "source": [
    "### Adding Regularisation Method to avoid Overfitting"
   ]
  },
  {
   "cell_type": "code",
   "execution_count": 75,
   "id": "8c8c3559",
   "metadata": {},
   "outputs": [],
   "source": [
    "fashionmodel = Sequential()\n",
    "fashionmodel.add(Conv2D(32, kernel_size=(3, 3),activation='relu',padding='same',input_shape=(28,28,1)))\n",
    "fashionmodel.add(MaxPooling2D((2, 2),padding='same'))\n",
    "fashionmodel.add(Dropout(0.25))\n",
    "fashionmodel.add(Conv2D(64, (3, 3), activation='relu',padding='same'))\n",
    "fashionmodel.add(MaxPooling2D(pool_size=(2, 2),padding='same'))\n",
    "fashionmodel.add(Dropout(0.25))\n",
    "fashionmodel.add(Conv2D(128, (3, 3), activation='relu',padding='same'))                 \n",
    "fashionmodel.add(MaxPooling2D(pool_size=(2, 2),padding='same'))\n",
    "fashionmodel.add(Dropout(0.4))\n",
    "fashionmodel.add(Flatten())\n",
    "fashionmodel.add(Dense(128, activation='relu'))          \n",
    "fashionmodel.add(Dropout(0.3))\n",
    "fashionmodel.add(Dense(10, activation='softmax'))"
   ]
  },
  {
   "cell_type": "code",
   "execution_count": 76,
   "id": "1b840438",
   "metadata": {},
   "outputs": [
    {
     "name": "stdout",
     "output_type": "stream",
     "text": [
      "Model: \"sequential_3\"\n",
      "_________________________________________________________________\n",
      " Layer (type)                Output Shape              Param #   \n",
      "=================================================================\n",
      " conv2d_4 (Conv2D)           (None, 28, 28, 32)        320       \n",
      "                                                                 \n",
      " max_pooling2d_4 (MaxPooling  (None, 14, 14, 32)       0         \n",
      " 2D)                                                             \n",
      "                                                                 \n",
      " dropout (Dropout)           (None, 14, 14, 32)        0         \n",
      "                                                                 \n",
      " conv2d_5 (Conv2D)           (None, 14, 14, 64)        18496     \n",
      "                                                                 \n",
      " max_pooling2d_5 (MaxPooling  (None, 7, 7, 64)         0         \n",
      " 2D)                                                             \n",
      "                                                                 \n",
      " dropout_1 (Dropout)         (None, 7, 7, 64)          0         \n",
      "                                                                 \n",
      " conv2d_6 (Conv2D)           (None, 7, 7, 128)         73856     \n",
      "                                                                 \n",
      " max_pooling2d_6 (MaxPooling  (None, 4, 4, 128)        0         \n",
      " 2D)                                                             \n",
      "                                                                 \n",
      " dropout_2 (Dropout)         (None, 4, 4, 128)         0         \n",
      "                                                                 \n",
      " flatten_1 (Flatten)         (None, 2048)              0         \n",
      "                                                                 \n",
      " dense_2 (Dense)             (None, 128)               262272    \n",
      "                                                                 \n",
      " dropout_3 (Dropout)         (None, 128)               0         \n",
      "                                                                 \n",
      " dense_3 (Dense)             (None, 10)                1290      \n",
      "                                                                 \n",
      "=================================================================\n",
      "Total params: 356,234\n",
      "Trainable params: 356,234\n",
      "Non-trainable params: 0\n",
      "_________________________________________________________________\n"
     ]
    }
   ],
   "source": [
    "fashionmodel.summary()"
   ]
  },
  {
   "cell_type": "code",
   "execution_count": 77,
   "id": "9f02e0b1",
   "metadata": {},
   "outputs": [],
   "source": [
    "fashionmodel.compile(loss='categorical_crossentropy', optimizer='adam',metrics=['accuracy'])"
   ]
  },
  {
   "cell_type": "code",
   "execution_count": 78,
   "id": "9996c322",
   "metadata": {},
   "outputs": [
    {
     "name": "stdout",
     "output_type": "stream",
     "text": [
      "Epoch 1/20\n",
      "750/750 [==============================] - 76s 99ms/step - loss: 0.6474 - accuracy: 0.7569 - val_loss: 0.4146 - val_accuracy: 0.8465\n",
      "Epoch 2/20\n",
      "750/750 [==============================] - 69s 92ms/step - loss: 0.4062 - accuracy: 0.8523 - val_loss: 0.3107 - val_accuracy: 0.8827\n",
      "Epoch 3/20\n",
      "750/750 [==============================] - 67s 90ms/step - loss: 0.3526 - accuracy: 0.8720 - val_loss: 0.2870 - val_accuracy: 0.8963\n",
      "Epoch 4/20\n",
      "750/750 [==============================] - 66s 88ms/step - loss: 0.3215 - accuracy: 0.8809 - val_loss: 0.2769 - val_accuracy: 0.8975\n",
      "Epoch 5/20\n",
      "750/750 [==============================] - 67s 89ms/step - loss: 0.3014 - accuracy: 0.8887 - val_loss: 0.2535 - val_accuracy: 0.9061\n",
      "Epoch 6/20\n",
      "750/750 [==============================] - 66s 88ms/step - loss: 0.2878 - accuracy: 0.8935 - val_loss: 0.2453 - val_accuracy: 0.9101\n",
      "Epoch 7/20\n",
      "750/750 [==============================] - 66s 88ms/step - loss: 0.2735 - accuracy: 0.8984 - val_loss: 0.2472 - val_accuracy: 0.9043\n",
      "Epoch 8/20\n",
      "750/750 [==============================] - 66s 88ms/step - loss: 0.2644 - accuracy: 0.8997 - val_loss: 0.2332 - val_accuracy: 0.9113\n",
      "Epoch 9/20\n",
      "750/750 [==============================] - 67s 89ms/step - loss: 0.2559 - accuracy: 0.9051 - val_loss: 0.2252 - val_accuracy: 0.9158\n",
      "Epoch 10/20\n",
      "750/750 [==============================] - 101s 135ms/step - loss: 0.2479 - accuracy: 0.9077 - val_loss: 0.2207 - val_accuracy: 0.9198\n",
      "Epoch 11/20\n",
      "750/750 [==============================] - 3152s 4s/step - loss: 0.2430 - accuracy: 0.9097 - val_loss: 0.2223 - val_accuracy: 0.9172\n",
      "Epoch 12/20\n",
      "750/750 [==============================] - 76s 101ms/step - loss: 0.2359 - accuracy: 0.9118 - val_loss: 0.2437 - val_accuracy: 0.9096\n",
      "Epoch 13/20\n",
      "750/750 [==============================] - 79s 105ms/step - loss: 0.2334 - accuracy: 0.9125 - val_loss: 0.2094 - val_accuracy: 0.9234\n",
      "Epoch 14/20\n",
      "750/750 [==============================] - 87s 116ms/step - loss: 0.2279 - accuracy: 0.9149 - val_loss: 0.2126 - val_accuracy: 0.9222\n",
      "Epoch 15/20\n",
      "750/750 [==============================] - 72s 96ms/step - loss: 0.2223 - accuracy: 0.9157 - val_loss: 0.2070 - val_accuracy: 0.9237\n",
      "Epoch 16/20\n",
      "750/750 [==============================] - 68s 91ms/step - loss: 0.2205 - accuracy: 0.9167 - val_loss: 0.2054 - val_accuracy: 0.9243\n",
      "Epoch 17/20\n",
      "750/750 [==============================] - 69s 92ms/step - loss: 0.2140 - accuracy: 0.9197 - val_loss: 0.2080 - val_accuracy: 0.9228\n",
      "Epoch 18/20\n",
      "750/750 [==============================] - 70s 93ms/step - loss: 0.2135 - accuracy: 0.9193 - val_loss: 0.2043 - val_accuracy: 0.9258\n",
      "Epoch 19/20\n",
      "750/750 [==============================] - 64s 85ms/step - loss: 0.2103 - accuracy: 0.9205 - val_loss: 0.2051 - val_accuracy: 0.9257\n",
      "Epoch 20/20\n",
      "750/750 [==============================] - 62s 82ms/step - loss: 0.2088 - accuracy: 0.9213 - val_loss: 0.2029 - val_accuracy: 0.9255\n"
     ]
    }
   ],
   "source": [
    "fashion_train_dropout = fashionmodel.fit(train_X, train_Y_one_hot, batch_size=64 ,epochs=20,verbose=1,validation_split = 0.2)"
   ]
  },
  {
   "cell_type": "markdown",
   "id": "7b89d293",
   "metadata": {},
   "source": [
    "### Evaluation"
   ]
  },
  {
   "cell_type": "code",
   "execution_count": 80,
   "id": "4dcc2d4d",
   "metadata": {},
   "outputs": [],
   "source": [
    "test_eval = fashionmodel.evaluate(test_X, test_Y_one_hot, verbose=0)"
   ]
  },
  {
   "cell_type": "code",
   "execution_count": 81,
   "id": "14bb4f7a",
   "metadata": {},
   "outputs": [
    {
     "name": "stdout",
     "output_type": "stream",
     "text": [
      "Test loss: 0.22133119404315948\n",
      "Test accuracy: 0.9225000143051147\n"
     ]
    }
   ],
   "source": [
    "print('Test loss:', test_eval[0])\n",
    "print('Test accuracy:', test_eval[1])"
   ]
  },
  {
   "cell_type": "code",
   "execution_count": 79,
   "id": "d492e5db",
   "metadata": {},
   "outputs": [
    {
     "data": {
      "image/png": "[encoded data removed]",
      "text/plain": [
       "<Figure size 432x288 with 1 Axes>"
      ]
     },
     "metadata": {
      "needs_background": "light"
     },
     "output_type": "display_data"
    },
    {
     "data": {
      "image/png": "[encoded data removed]",
      "text/plain": [
       "<Figure size 432x288 with 1 Axes>"
      ]
     },
     "metadata": {
      "needs_background": "light"
     },
     "output_type": "display_data"
    }
   ],
   "source": [
    "accuracy = fashion_train_dropout.history['accuracy']\n",
    "val_accuracy = fashion_train_dropout.history['val_accuracy']\n",
    "loss = fashion_train.history['loss']\n",
    "val_loss = fashion_train.history['val_loss']\n",
    "epochs = range(len(accuracy))\n",
    "plt.plot(epochs, accuracy, 'bo', label='Training accuracy')\n",
    "plt.plot(epochs, val_accuracy, 'b', label='Validation accuracy')\n",
    "plt.title('Training and validation accuracy')\n",
    "plt.legend()\n",
    "plt.figure()\n",
    "plt.plot(epochs, loss, 'bo', label='Training loss')\n",
    "plt.plot(epochs, val_loss, 'b', label='Validation loss')\n",
    "plt.title('Training and validation loss')\n",
    "plt.legend()\n",
    "plt.show()"
   ]
  },
  {
   "cell_type": "markdown",
   "id": "c935d022",
   "metadata": {},
   "source": [
    "### Prediction"
   ]
  },
  {
   "cell_type": "code",
   "execution_count": 105,
   "id": "00ccba39",
   "metadata": {},
   "outputs": [],
   "source": [
    "predictions=  fashionmodel.predict(test_X)"
   ]
  },
  {
   "cell_type": "code",
   "execution_count": 113,
   "id": "4af60215",
   "metadata": {},
   "outputs": [],
   "source": [
    "predictions = np.argmax(np.round(predictions),axis=1)"
   ]
  },
  {
   "cell_type": "code",
   "execution_count": 121,
   "id": "255f5d31",
   "metadata": {},
   "outputs": [
    {
     "name": "stdout",
     "output_type": "stream",
     "text": [
      "Found 9171 correct labels\n"
     ]
    },
    {
     "data": {
      "image/png": "[encoded data removed]",
      "text/plain": [
       "<Figure size 432x288 with 1 Axes>"
      ]
     },
     "metadata": {
      "needs_background": "light"
     },
     "output_type": "display_data"
    },
    {
     "data": {
      "image/png": "[encoded data removed]",
      "text/plain": [
       "<Figure size 432x288 with 1 Axes>"
      ]
     },
     "metadata": {
      "needs_background": "light"
     },
     "output_type": "display_data"
    },
    {
     "data": {
      "image/png": "[encoded data removed]",
      "text/plain": [
       "<Figure size 432x288 with 1 Axes>"
      ]
     },
     "metadata": {
      "needs_background": "light"
     },
     "output_type": "display_data"
    },
    {
     "data": {
      "image/png": "[encoded data removed]",
      "text/plain": [
       "<Figure size 432x288 with 1 Axes>"
      ]
     },
     "metadata": {
      "needs_background": "light"
     },
     "output_type": "display_data"
    },
    {
     "data": {
      "image/png": "[encoded data removed]",
      "text/plain": [
       "<Figure size 432x288 with 1 Axes>"
      ]
     },
     "metadata": {
      "needs_background": "light"
     },
     "output_type": "display_data"
    },
    {
     "data": {
      "image/png": "[encoded data removed]",
      "text/plain": [
       "<Figure size 432x288 with 1 Axes>"
      ]
     },
     "metadata": {
      "needs_background": "light"
     },
     "output_type": "display_data"
    },
    {
     "data": {
      "image/png": "[encoded data removed]",
      "text/plain": [
       "<Figure size 432x288 with 1 Axes>"
      ]
     },
     "metadata": {
      "needs_background": "light"
     },
     "output_type": "display_data"
    },
    {
     "data": {
      "image/png": "[encoded data removed]",
      "text/plain": [
       "<Figure size 432x288 with 1 Axes>"
      ]
     },
     "metadata": {
      "needs_background": "light"
     },
     "output_type": "display_data"
    },
    {
     "data": {
      "image/png": "[encoded data removed]",
      "text/plain": [
       "<Figure size 432x288 with 1 Axes>"
      ]
     },
     "metadata": {
      "needs_background": "light"
     },
     "output_type": "display_data"
    }
   ],
   "source": [
    "correct = np.where(predictions==test_Y)[0] # this returns the indices\n",
    "print(\"Found %d correct labels\" % len(correct))\n",
    "for i, correct in enumerate(correct[:9]):\n",
    "    plt.subplot(3,3,i+1)\n",
    "    show_image(test_X[correct].reshape(28,28))"
   ]
  },
  {
   "cell_type": "code",
   "execution_count": null,
   "id": "379e524f",
   "metadata": {},
   "outputs": [],
   "source": []
  }
 ],
 "metadata": {
  "kernelspec": {
   "display_name": "Python 3 (ipykernel)",
   "language": "python",
   "name": "python3"
  },
  "language_info": {
   "codemirror_mode": {
    "name": "ipython",
    "version": 3
   },
   "file_extension": ".py",
   "mimetype": "text/x-python",
   "name": "python",
   "nbconvert_exporter": "python",
   "pygments_lexer": "ipython3",
   "version": "3.9.7"
  }
 },
 "nbformat": 4,
 "nbformat_minor": 5
}
